{
 "cells": [
  {
   "cell_type": "code",
   "execution_count": null,
   "metadata": {
    "collapsed": true
   },
   "outputs": [],
   "source": [
    "import numpy as np\n",
    "import pandas as pd\n",
    "import re"
   ]
  },
  {
   "cell_type": "markdown",
   "metadata": {
    "collapsed": true
   },
   "source": [
    "# Preprocess Data for Wrangler\n",
    "\n",
    "### Preprocessing of HTML file"
   ]
  },
  {
   "cell_type": "code",
   "execution_count": null,
   "metadata": {
    "collapsed": false
   },
   "outputs": [],
   "source": [
    "# delete /n\n",
    "with open('messages/'+str(i)+'.html', 'r') as f:\n",
    "    data=f.read().replace('\\n', '')\n",
    "    \n",
    "# get conversation title\n",
    "x = re.search('<title>(.*)</title>', data, re.S)\n",
    "name = x.group(1)\n",
    "\n",
    "# get conversation name\n",
    "x = re.search('Conversation with (.*)', name)\n",
    "person = x.group(1)\n",
    "filename = person.replace(' ','_')\n",
    "\n",
    "# split into rows\n",
    "conversation = data.split('<div class=\"message\"><div class=\"message_header\">')[1:]\n",
    "fb_database = pd.DataFrame(conversation)\n",
    "\n",
    "# add meta data\n",
    "fb_database['conversation_id'] = i\n",
    "fb_database['conversation_name'] = filename\n",
    "fb_database['plattform'] = 'Facebook'\n",
    "\n",
    "# iterate through the messages (adapt number to number of html files)\n",
    "for i in range(1410):\n",
    "    with open('messages/'+str(i)+'.html', 'r') as f:\n",
    "        data=f.read().replace('\\n', '')\n",
    "    x = re.search('<title>(.*)</title>', data, re.S)\n",
    "    name = x.group(1)\n",
    "    x = re.search('Conversation with (.*)', name)\n",
    "    person = x.group(1)\n",
    "    filename = person.replace(' ','_')\n",
    "    conversation = data.split('<div class=\"message\"><div class=\"message_header\">')[1:]\n",
    "    conversation = pd.DataFrame(conversation)\n",
    "    conversation['conversation_id'] = i\n",
    "    conversation['conversation_name'] = str(filename)\n",
    "    conversation['plattform'] = 'Facebook'\n",
    "    fb_database = pd.concat([fb_database,conversation])\n",
    "    "
   ]
  },
  {
   "cell_type": "markdown",
   "metadata": {
    "collapsed": false
   },
   "source": [
    "### Export"
   ]
  },
  {
   "cell_type": "code",
   "execution_count": null,
   "metadata": {
    "collapsed": false
   },
   "outputs": [],
   "source": [
    "# Export to CSV\n",
    "fb_database.to_csv('fb_database.csv')"
   ]
  }
 ],
 "metadata": {
  "anaconda-cloud": {},
  "kernelspec": {
   "display_name": "Python [conda env:python3]",
   "language": "python",
   "name": "conda-env-python3-py"
  },
  "language_info": {
   "codemirror_mode": {
    "name": "ipython",
    "version": 3
   },
   "file_extension": ".py",
   "mimetype": "text/x-python",
   "name": "python",
   "nbconvert_exporter": "python",
   "pygments_lexer": "ipython3",
   "version": "3.6.3"
  }
 },
 "nbformat": 4,
 "nbformat_minor": 2
}
